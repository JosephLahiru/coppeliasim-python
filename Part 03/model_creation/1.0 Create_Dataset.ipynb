{
 "cells": [
  {
   "cell_type": "code",
   "execution_count": 3,
   "metadata": {},
   "outputs": [
    {
     "name": "stdout",
     "output_type": "stream",
     "text": [
      "{'forward': 0, 'left': 1, 'right': 2}\n",
      "{0: 'forward', 1: 'left', 2: 'right'}\n",
      "['forward', 'left', 'right']\n",
      "[0, 1, 2]\n"
     ]
    }
   ],
   "source": [
    "import cv2, os, pickle\n",
    "\n",
    "data_path='../train_data'\n",
    "categories=os.listdir(data_path)\n",
    "labels=[i for i in range(len(categories))]\n",
    "\n",
    "label_dict = {} #empty dictionary\n",
    "cat_dict = {}\n",
    "\n",
    "for i in range(len(categories)):\n",
    "    label_dict[categories[i]]=labels[i]\n",
    "\n",
    "for i in range(len(categories)):\n",
    "    cat_dict[labels[i]]=categories[i]\n",
    "    \n",
    "print(label_dict)\n",
    "print(cat_dict)\n",
    "print(categories)\n",
    "print(labels)"
   ]
  },
  {
   "cell_type": "code",
   "execution_count": 4,
   "metadata": {},
   "outputs": [],
   "source": [
    "dict_file = open(\"data/ai_car.pkl\", \"wb\")\n",
    "pickle.dump(cat_dict, dict_file)\n",
    "dict_file.close()"
   ]
  },
  {
   "cell_type": "code",
   "execution_count": 5,
   "metadata": {},
   "outputs": [],
   "source": [
    "img_size=50\n",
    "dataset=[]\n",
    "\n",
    "for category in categories:\n",
    "    folder_path=os.path.join(data_path,category)\n",
    "    img_names=os.listdir(folder_path)\n",
    "        \n",
    "    for img_name in img_names:\n",
    "        img_path=os.path.join(folder_path,img_name)\n",
    "        img=cv2.imread(img_path)\n",
    "        #cv2.imshow('LIVE',img)\n",
    "        #cv2.waitKey(100)\n",
    "        try:\n",
    "            gray=cv2.cvtColor(img,cv2.COLOR_BGR2GRAY)\n",
    "            #Coverting the image into gray scale\n",
    "            resized=cv2.resize(gray,(img_size,img_size))\n",
    "            #resizing the gray scale into 50x50, since we need a fixed common size for all the images in the dataset\n",
    "            dataset.append([resized,label_dict[category]])\n",
    "            #appending the image and the label(categorized) into the list (dataset)\n",
    "        except Exception as e:\n",
    "            print(e)\n",
    "            #if any exception rasied, the exception will be printed here. And pass to the next image"
   ]
  },
  {
   "cell_type": "code",
   "execution_count": 6,
   "metadata": {},
   "outputs": [
    {
     "data": {
      "text/plain": [
       "5478"
      ]
     },
     "execution_count": 6,
     "metadata": {},
     "output_type": "execute_result"
    }
   ],
   "source": [
    "len(dataset)"
   ]
  },
  {
   "cell_type": "code",
   "execution_count": 7,
   "metadata": {},
   "outputs": [],
   "source": [
    "from random import shuffle\n",
    "\n",
    "shuffle(dataset)"
   ]
  },
  {
   "cell_type": "code",
   "execution_count": 8,
   "metadata": {},
   "outputs": [],
   "source": [
    "data=[]\n",
    "target=[]\n",
    "\n",
    "for feature,label in dataset:\n",
    "    data.append(feature)\n",
    "    target.append(label)"
   ]
  },
  {
   "cell_type": "code",
   "execution_count": 9,
   "metadata": {},
   "outputs": [
    {
     "ename": "ModuleNotFoundError",
     "evalue": "No module named 'keras'",
     "output_type": "error",
     "traceback": [
      "\u001b[1;31m---------------------------------------------------------------------------\u001b[0m",
      "\u001b[1;31mModuleNotFoundError\u001b[0m                       Traceback (most recent call last)",
      "\u001b[1;32mc:\\Users\\josep\\AppData\\LocalLow\\IronGate\\Valheim\\coppeliasim-python\\Part 03\\model_creation\\1.0 Create_Dataset.ipynb Cell 7\u001b[0m line \u001b[0;36m7\n\u001b[0;32m      <a href='vscode-notebook-cell:/c%3A/Users/josep/AppData/LocalLow/IronGate/Valheim/coppeliasim-python/Part%2003/model_creation/1.0%20Create_Dataset.ipynb#W6sZmlsZQ%3D%3D?line=3'>4</a>\u001b[0m data\u001b[39m=\u001b[39mnp\u001b[39m.\u001b[39mreshape(data,(data\u001b[39m.\u001b[39mshape[\u001b[39m0\u001b[39m],img_size,img_size,\u001b[39m1\u001b[39m))\n\u001b[0;32m      <a href='vscode-notebook-cell:/c%3A/Users/josep/AppData/LocalLow/IronGate/Valheim/coppeliasim-python/Part%2003/model_creation/1.0%20Create_Dataset.ipynb#W6sZmlsZQ%3D%3D?line=4'>5</a>\u001b[0m target\u001b[39m=\u001b[39mnp\u001b[39m.\u001b[39marray(target)\n\u001b[1;32m----> <a href='vscode-notebook-cell:/c%3A/Users/josep/AppData/LocalLow/IronGate/Valheim/coppeliasim-python/Part%2003/model_creation/1.0%20Create_Dataset.ipynb#W6sZmlsZQ%3D%3D?line=6'>7</a>\u001b[0m \u001b[39mfrom\u001b[39;00m \u001b[39mkeras\u001b[39;00m\u001b[39m.\u001b[39;00m\u001b[39mutils\u001b[39;00m \u001b[39mimport\u001b[39;00m np_utils\n\u001b[0;32m      <a href='vscode-notebook-cell:/c%3A/Users/josep/AppData/LocalLow/IronGate/Valheim/coppeliasim-python/Part%2003/model_creation/1.0%20Create_Dataset.ipynb#W6sZmlsZQ%3D%3D?line=8'>9</a>\u001b[0m new_target\u001b[39m=\u001b[39mnp_utils\u001b[39m.\u001b[39mto_categorical(target)\n",
      "\u001b[1;31mModuleNotFoundError\u001b[0m: No module named 'keras'"
     ]
    }
   ],
   "source": [
    "import numpy as np\n",
    "\n",
    "data=np.array(data)/255.0\n",
    "data=np.reshape(data,(data.shape[0],img_size,img_size,1))\n",
    "target=np.array(target)\n",
    "\n",
    "from keras.utils import np_utils\n",
    "\n",
    "new_target=np_utils.to_categorical(target)"
   ]
  },
  {
   "cell_type": "code",
   "execution_count": 9,
   "metadata": {},
   "outputs": [],
   "source": [
    "np.save('data/train',data)\n",
    "np.save('data/target',new_target)"
   ]
  },
  {
   "cell_type": "code",
   "execution_count": null,
   "metadata": {},
   "outputs": [],
   "source": []
  }
 ],
 "metadata": {
  "kernelspec": {
   "display_name": "Python 3",
   "language": "python",
   "name": "python3"
  },
  "language_info": {
   "codemirror_mode": {
    "name": "ipython",
    "version": 3
   },
   "file_extension": ".py",
   "mimetype": "text/x-python",
   "name": "python",
   "nbconvert_exporter": "python",
   "pygments_lexer": "ipython3",
   "version": "3.11.4"
  }
 },
 "nbformat": 4,
 "nbformat_minor": 4
}
